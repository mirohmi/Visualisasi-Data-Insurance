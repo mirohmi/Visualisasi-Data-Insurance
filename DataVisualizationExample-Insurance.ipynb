{
 "cells": [
  {
   "cell_type": "markdown",
   "metadata": {},
   "source": [
    "## Data Visualization-Data Insurance"
   ]
  },
  {
   "cell_type": "markdown",
   "metadata": {},
   "source": [
    "### Import Excel Data"
   ]
  },
  {
   "cell_type": "code",
   "execution_count": 1,
   "metadata": {},
   "outputs": [
    {
     "data": {
      "text/html": [
       "<div>\n",
       "<style scoped>\n",
       "    .dataframe tbody tr th:only-of-type {\n",
       "        vertical-align: middle;\n",
       "    }\n",
       "\n",
       "    .dataframe tbody tr th {\n",
       "        vertical-align: top;\n",
       "    }\n",
       "\n",
       "    .dataframe thead th {\n",
       "        text-align: right;\n",
       "    }\n",
       "</style>\n",
       "<table border=\"1\" class=\"dataframe\">\n",
       "  <thead>\n",
       "    <tr style=\"text-align: right;\">\n",
       "      <th></th>\n",
       "      <th>Policy</th>\n",
       "      <th>Expiry</th>\n",
       "      <th>Location</th>\n",
       "      <th>State</th>\n",
       "      <th>Region</th>\n",
       "      <th>InsuredValue</th>\n",
       "      <th>Construction</th>\n",
       "      <th>BusinessType</th>\n",
       "      <th>Earthquake</th>\n",
       "      <th>Flood</th>\n",
       "    </tr>\n",
       "  </thead>\n",
       "  <tbody>\n",
       "    <tr>\n",
       "      <th>0</th>\n",
       "      <td>100242</td>\n",
       "      <td>2021-01-02</td>\n",
       "      <td>Urban</td>\n",
       "      <td>NY</td>\n",
       "      <td>East</td>\n",
       "      <td>1617630</td>\n",
       "      <td>Frame</td>\n",
       "      <td>Retail</td>\n",
       "      <td>N</td>\n",
       "      <td>N</td>\n",
       "    </tr>\n",
       "    <tr>\n",
       "      <th>1</th>\n",
       "      <td>100314</td>\n",
       "      <td>2021-01-02</td>\n",
       "      <td>Urban</td>\n",
       "      <td>NY</td>\n",
       "      <td>East</td>\n",
       "      <td>8678500</td>\n",
       "      <td>Fire Resist</td>\n",
       "      <td>Apartment</td>\n",
       "      <td>Y</td>\n",
       "      <td>Y</td>\n",
       "    </tr>\n",
       "    <tr>\n",
       "      <th>2</th>\n",
       "      <td>100359</td>\n",
       "      <td>2021-01-02</td>\n",
       "      <td>Rural</td>\n",
       "      <td>WI</td>\n",
       "      <td>Midwest</td>\n",
       "      <td>2052660</td>\n",
       "      <td>Frame</td>\n",
       "      <td>Farming</td>\n",
       "      <td>N</td>\n",
       "      <td>N</td>\n",
       "    </tr>\n",
       "    <tr>\n",
       "      <th>3</th>\n",
       "      <td>100315</td>\n",
       "      <td>2021-01-03</td>\n",
       "      <td>Urban</td>\n",
       "      <td>NY</td>\n",
       "      <td>East</td>\n",
       "      <td>17580000</td>\n",
       "      <td>Frame</td>\n",
       "      <td>Apartment</td>\n",
       "      <td>Y</td>\n",
       "      <td>Y</td>\n",
       "    </tr>\n",
       "    <tr>\n",
       "      <th>4</th>\n",
       "      <td>100385</td>\n",
       "      <td>2021-01-03</td>\n",
       "      <td>Urban</td>\n",
       "      <td>NY</td>\n",
       "      <td>East</td>\n",
       "      <td>1925000</td>\n",
       "      <td>Masonry</td>\n",
       "      <td>Hospitality</td>\n",
       "      <td>N</td>\n",
       "      <td>N</td>\n",
       "    </tr>\n",
       "  </tbody>\n",
       "</table>\n",
       "</div>"
      ],
      "text/plain": [
       "   Policy     Expiry Location State   Region  InsuredValue Construction  \\\n",
       "0  100242 2021-01-02    Urban    NY     East       1617630        Frame   \n",
       "1  100314 2021-01-02    Urban    NY     East       8678500  Fire Resist   \n",
       "2  100359 2021-01-02    Rural    WI  Midwest       2052660        Frame   \n",
       "3  100315 2021-01-03    Urban    NY     East      17580000        Frame   \n",
       "4  100385 2021-01-03    Urban    NY     East       1925000      Masonry   \n",
       "\n",
       "  BusinessType Earthquake Flood  \n",
       "0       Retail          N     N  \n",
       "1    Apartment          Y     Y  \n",
       "2      Farming          N     N  \n",
       "3    Apartment          Y     Y  \n",
       "4  Hospitality          N     N  "
      ]
     },
     "execution_count": 1,
     "metadata": {},
     "output_type": "execute_result"
    }
   ],
   "source": [
    "import pandas as pd\n",
    "import numpy as np\n",
    "import matplotlib.pyplot as plt\n",
    "import seaborn as sns\n",
    "\n",
    "df = pd.read_excel('sampledatainsurance.xlsx', sheet_name='PolicyData')\n",
    "df.head()"
   ]
  },
  {
   "cell_type": "code",
   "execution_count": 2,
   "metadata": {},
   "outputs": [
    {
     "data": {
      "text/plain": [
       "(500, 10)"
      ]
     },
     "execution_count": 2,
     "metadata": {},
     "output_type": "execute_result"
    }
   ],
   "source": [
    "df.shape"
   ]
  },
  {
   "cell_type": "markdown",
   "metadata": {},
   "source": [
    "#### Cek tipe data per kolom"
   ]
  },
  {
   "cell_type": "code",
   "execution_count": 3,
   "metadata": {},
   "outputs": [
    {
     "name": "stdout",
     "output_type": "stream",
     "text": [
      "<class 'pandas.core.frame.DataFrame'>\n",
      "RangeIndex: 500 entries, 0 to 499\n",
      "Data columns (total 10 columns):\n",
      " #   Column        Non-Null Count  Dtype         \n",
      "---  ------        --------------  -----         \n",
      " 0   Policy        500 non-null    int64         \n",
      " 1   Expiry        500 non-null    datetime64[ns]\n",
      " 2   Location      500 non-null    object        \n",
      " 3   State         500 non-null    object        \n",
      " 4   Region        500 non-null    object        \n",
      " 5   InsuredValue  500 non-null    int64         \n",
      " 6   Construction  500 non-null    object        \n",
      " 7   BusinessType  500 non-null    object        \n",
      " 8   Earthquake    500 non-null    object        \n",
      " 9   Flood         500 non-null    object        \n",
      "dtypes: datetime64[ns](1), int64(2), object(7)\n",
      "memory usage: 39.2+ KB\n"
     ]
    }
   ],
   "source": [
    "df.info()"
   ]
  },
  {
   "cell_type": "code",
   "execution_count": 4,
   "metadata": {},
   "outputs": [
    {
     "data": {
      "text/html": [
       "<div>\n",
       "<style scoped>\n",
       "    .dataframe tbody tr th:only-of-type {\n",
       "        vertical-align: middle;\n",
       "    }\n",
       "\n",
       "    .dataframe tbody tr th {\n",
       "        vertical-align: top;\n",
       "    }\n",
       "\n",
       "    .dataframe thead th {\n",
       "        text-align: right;\n",
       "    }\n",
       "</style>\n",
       "<table border=\"1\" class=\"dataframe\">\n",
       "  <thead>\n",
       "    <tr style=\"text-align: right;\">\n",
       "      <th></th>\n",
       "      <th>Policy</th>\n",
       "      <th>InsuredValue</th>\n",
       "    </tr>\n",
       "  </thead>\n",
       "  <tbody>\n",
       "    <tr>\n",
       "      <th>count</th>\n",
       "      <td>500.000000</td>\n",
       "      <td>5.000000e+02</td>\n",
       "    </tr>\n",
       "    <tr>\n",
       "      <th>mean</th>\n",
       "      <td>100656.020000</td>\n",
       "      <td>4.964411e+06</td>\n",
       "    </tr>\n",
       "    <tr>\n",
       "      <th>std</th>\n",
       "      <td>274.861014</td>\n",
       "      <td>6.205834e+06</td>\n",
       "    </tr>\n",
       "    <tr>\n",
       "      <th>min</th>\n",
       "      <td>100200.000000</td>\n",
       "      <td>3.000000e+04</td>\n",
       "    </tr>\n",
       "    <tr>\n",
       "      <th>25%</th>\n",
       "      <td>100411.750000</td>\n",
       "      <td>1.603600e+06</td>\n",
       "    </tr>\n",
       "    <tr>\n",
       "      <th>50%</th>\n",
       "      <td>100652.500000</td>\n",
       "      <td>2.593682e+06</td>\n",
       "    </tr>\n",
       "    <tr>\n",
       "      <th>75%</th>\n",
       "      <td>100894.250000</td>\n",
       "      <td>6.005692e+06</td>\n",
       "    </tr>\n",
       "    <tr>\n",
       "      <th>max</th>\n",
       "      <td>101126.000000</td>\n",
       "      <td>5.341061e+07</td>\n",
       "    </tr>\n",
       "  </tbody>\n",
       "</table>\n",
       "</div>"
      ],
      "text/plain": [
       "              Policy  InsuredValue\n",
       "count     500.000000  5.000000e+02\n",
       "mean   100656.020000  4.964411e+06\n",
       "std       274.861014  6.205834e+06\n",
       "min    100200.000000  3.000000e+04\n",
       "25%    100411.750000  1.603600e+06\n",
       "50%    100652.500000  2.593682e+06\n",
       "75%    100894.250000  6.005692e+06\n",
       "max    101126.000000  5.341061e+07"
      ]
     },
     "execution_count": 4,
     "metadata": {},
     "output_type": "execute_result"
    }
   ],
   "source": [
    "df.describe()"
   ]
  },
  {
   "cell_type": "markdown",
   "metadata": {},
   "source": [
    "#### Ubah kolom int menjadi objek pada kolom Policy"
   ]
  },
  {
   "cell_type": "code",
   "execution_count": 5,
   "metadata": {},
   "outputs": [],
   "source": [
    "df['Policy'] = df['Policy'].astype('str')"
   ]
  },
  {
   "cell_type": "code",
   "execution_count": 6,
   "metadata": {},
   "outputs": [
    {
     "data": {
      "text/plain": [
       "Policy                  object\n",
       "Expiry          datetime64[ns]\n",
       "Location                object\n",
       "State                   object\n",
       "Region                  object\n",
       "InsuredValue             int64\n",
       "Construction            object\n",
       "BusinessType            object\n",
       "Earthquake              object\n",
       "Flood                   object\n",
       "dtype: object"
      ]
     },
     "execution_count": 6,
     "metadata": {},
     "output_type": "execute_result"
    }
   ],
   "source": [
    "df.dtypes"
   ]
  },
  {
   "cell_type": "markdown",
   "metadata": {},
   "source": [
    "### Cek NaN/Null"
   ]
  },
  {
   "cell_type": "code",
   "execution_count": 7,
   "metadata": {},
   "outputs": [
    {
     "data": {
      "text/plain": [
       "Policy          0\n",
       "Expiry          0\n",
       "Location        0\n",
       "State           0\n",
       "Region          0\n",
       "InsuredValue    0\n",
       "Construction    0\n",
       "BusinessType    0\n",
       "Earthquake      0\n",
       "Flood           0\n",
       "dtype: int64"
      ]
     },
     "execution_count": 7,
     "metadata": {},
     "output_type": "execute_result"
    }
   ],
   "source": [
    "df.isna().sum()"
   ]
  },
  {
   "cell_type": "markdown",
   "metadata": {},
   "source": [
    "#### Buat kolom berisi bulan kadaluarsa"
   ]
  },
  {
   "cell_type": "code",
   "execution_count": 8,
   "metadata": {},
   "outputs": [
    {
     "data": {
      "text/html": [
       "<div>\n",
       "<style scoped>\n",
       "    .dataframe tbody tr th:only-of-type {\n",
       "        vertical-align: middle;\n",
       "    }\n",
       "\n",
       "    .dataframe tbody tr th {\n",
       "        vertical-align: top;\n",
       "    }\n",
       "\n",
       "    .dataframe thead th {\n",
       "        text-align: right;\n",
       "    }\n",
       "</style>\n",
       "<table border=\"1\" class=\"dataframe\">\n",
       "  <thead>\n",
       "    <tr style=\"text-align: right;\">\n",
       "      <th></th>\n",
       "      <th>Policy</th>\n",
       "      <th>Expiry</th>\n",
       "      <th>Location</th>\n",
       "      <th>State</th>\n",
       "      <th>Region</th>\n",
       "      <th>InsuredValue</th>\n",
       "      <th>Construction</th>\n",
       "      <th>BusinessType</th>\n",
       "      <th>Earthquake</th>\n",
       "      <th>Flood</th>\n",
       "      <th>Month Expiry</th>\n",
       "    </tr>\n",
       "  </thead>\n",
       "  <tbody>\n",
       "    <tr>\n",
       "      <th>0</th>\n",
       "      <td>100242</td>\n",
       "      <td>2021-01-02</td>\n",
       "      <td>Urban</td>\n",
       "      <td>NY</td>\n",
       "      <td>East</td>\n",
       "      <td>1617630</td>\n",
       "      <td>Frame</td>\n",
       "      <td>Retail</td>\n",
       "      <td>N</td>\n",
       "      <td>N</td>\n",
       "      <td>2021-01</td>\n",
       "    </tr>\n",
       "    <tr>\n",
       "      <th>1</th>\n",
       "      <td>100314</td>\n",
       "      <td>2021-01-02</td>\n",
       "      <td>Urban</td>\n",
       "      <td>NY</td>\n",
       "      <td>East</td>\n",
       "      <td>8678500</td>\n",
       "      <td>Fire Resist</td>\n",
       "      <td>Apartment</td>\n",
       "      <td>Y</td>\n",
       "      <td>Y</td>\n",
       "      <td>2021-01</td>\n",
       "    </tr>\n",
       "    <tr>\n",
       "      <th>2</th>\n",
       "      <td>100359</td>\n",
       "      <td>2021-01-02</td>\n",
       "      <td>Rural</td>\n",
       "      <td>WI</td>\n",
       "      <td>Midwest</td>\n",
       "      <td>2052660</td>\n",
       "      <td>Frame</td>\n",
       "      <td>Farming</td>\n",
       "      <td>N</td>\n",
       "      <td>N</td>\n",
       "      <td>2021-01</td>\n",
       "    </tr>\n",
       "    <tr>\n",
       "      <th>3</th>\n",
       "      <td>100315</td>\n",
       "      <td>2021-01-03</td>\n",
       "      <td>Urban</td>\n",
       "      <td>NY</td>\n",
       "      <td>East</td>\n",
       "      <td>17580000</td>\n",
       "      <td>Frame</td>\n",
       "      <td>Apartment</td>\n",
       "      <td>Y</td>\n",
       "      <td>Y</td>\n",
       "      <td>2021-01</td>\n",
       "    </tr>\n",
       "    <tr>\n",
       "      <th>4</th>\n",
       "      <td>100385</td>\n",
       "      <td>2021-01-03</td>\n",
       "      <td>Urban</td>\n",
       "      <td>NY</td>\n",
       "      <td>East</td>\n",
       "      <td>1925000</td>\n",
       "      <td>Masonry</td>\n",
       "      <td>Hospitality</td>\n",
       "      <td>N</td>\n",
       "      <td>N</td>\n",
       "      <td>2021-01</td>\n",
       "    </tr>\n",
       "  </tbody>\n",
       "</table>\n",
       "</div>"
      ],
      "text/plain": [
       "   Policy     Expiry Location State   Region  InsuredValue Construction  \\\n",
       "0  100242 2021-01-02    Urban    NY     East       1617630        Frame   \n",
       "1  100314 2021-01-02    Urban    NY     East       8678500  Fire Resist   \n",
       "2  100359 2021-01-02    Rural    WI  Midwest       2052660        Frame   \n",
       "3  100315 2021-01-03    Urban    NY     East      17580000        Frame   \n",
       "4  100385 2021-01-03    Urban    NY     East       1925000      Masonry   \n",
       "\n",
       "  BusinessType Earthquake Flood Month Expiry  \n",
       "0       Retail          N     N      2021-01  \n",
       "1    Apartment          Y     Y      2021-01  \n",
       "2      Farming          N     N      2021-01  \n",
       "3    Apartment          Y     Y      2021-01  \n",
       "4  Hospitality          N     N      2021-01  "
      ]
     },
     "execution_count": 8,
     "metadata": {},
     "output_type": "execute_result"
    }
   ],
   "source": [
    "df['Month Expiry'] = pd.to_datetime(df['Expiry']).dt.to_period('M')\n",
    "df.head()"
   ]
  },
  {
   "cell_type": "code",
   "execution_count": 9,
   "metadata": {},
   "outputs": [
    {
     "data": {
      "text/html": [
       "<div>\n",
       "<style scoped>\n",
       "    .dataframe tbody tr th:only-of-type {\n",
       "        vertical-align: middle;\n",
       "    }\n",
       "\n",
       "    .dataframe tbody tr th {\n",
       "        vertical-align: top;\n",
       "    }\n",
       "\n",
       "    .dataframe thead th {\n",
       "        text-align: right;\n",
       "    }\n",
       "</style>\n",
       "<table border=\"1\" class=\"dataframe\">\n",
       "  <thead>\n",
       "    <tr style=\"text-align: right;\">\n",
       "      <th></th>\n",
       "      <th>Region</th>\n",
       "      <th>Location</th>\n",
       "      <th>InsuredValue</th>\n",
       "    </tr>\n",
       "  </thead>\n",
       "  <tbody>\n",
       "    <tr>\n",
       "      <th>0</th>\n",
       "      <td>Central</td>\n",
       "      <td>Rural</td>\n",
       "      <td>10617800</td>\n",
       "    </tr>\n",
       "    <tr>\n",
       "      <th>1</th>\n",
       "      <td>Central</td>\n",
       "      <td>Urban</td>\n",
       "      <td>38655793</td>\n",
       "    </tr>\n",
       "    <tr>\n",
       "      <th>2</th>\n",
       "      <td>East</td>\n",
       "      <td>Rural</td>\n",
       "      <td>183012687</td>\n",
       "    </tr>\n",
       "    <tr>\n",
       "      <th>3</th>\n",
       "      <td>East</td>\n",
       "      <td>Urban</td>\n",
       "      <td>1643009131</td>\n",
       "    </tr>\n",
       "    <tr>\n",
       "      <th>4</th>\n",
       "      <td>Midwest</td>\n",
       "      <td>Rural</td>\n",
       "      <td>76650378</td>\n",
       "    </tr>\n",
       "  </tbody>\n",
       "</table>\n",
       "</div>"
      ],
      "text/plain": [
       "    Region Location  InsuredValue\n",
       "0  Central    Rural      10617800\n",
       "1  Central    Urban      38655793\n",
       "2     East    Rural     183012687\n",
       "3     East    Urban    1643009131\n",
       "4  Midwest    Rural      76650378"
      ]
     },
     "execution_count": 9,
     "metadata": {},
     "output_type": "execute_result"
    }
   ],
   "source": [
    "insurance_region = df.groupby(['Region','Location'])['InsuredValue'].sum().reset_index()\n",
    "insurance_region.head()"
   ]
  },
  {
   "cell_type": "code",
   "execution_count": 36,
   "metadata": {},
   "outputs": [
    {
     "data": {
      "image/png": "[encoded data removed]",
      "text/plain": [
       "<Figure size 576x432 with 1 Axes>"
      ]
     },
     "metadata": {
      "needs_background": "light"
     },
     "output_type": "display_data"
    }
   ],
   "source": [
    "plt.figure(figsize=(8,6))\n",
    "sns.barplot(x='Region', y='InsuredValue', hue='Location', data=insurance_region, ci=None, palette='muted')\n",
    "plt.xlabel('Region', fontsize=15)\n",
    "plt.ylabel('Total Insured Value(in Million)', fontsize=15)\n",
    "labels, locations = plt.yticks()\n",
    "plt.yticks(labels, (labels/1000000).astype(int))\n",
    "plt.title('Total Insured Value Per Region', fontsize=20)\n",
    "plt.show()"
   ]
  },
  {
   "cell_type": "code",
   "execution_count": 11,
   "metadata": {},
   "outputs": [
    {
     "data": {
      "text/html": [
       "<div>\n",
       "<style scoped>\n",
       "    .dataframe tbody tr th:only-of-type {\n",
       "        vertical-align: middle;\n",
       "    }\n",
       "\n",
       "    .dataframe tbody tr th {\n",
       "        vertical-align: top;\n",
       "    }\n",
       "\n",
       "    .dataframe thead th {\n",
       "        text-align: right;\n",
       "    }\n",
       "</style>\n",
       "<table border=\"1\" class=\"dataframe\">\n",
       "  <thead>\n",
       "    <tr style=\"text-align: right;\">\n",
       "      <th>Location</th>\n",
       "      <th>Rural</th>\n",
       "      <th>Urban</th>\n",
       "    </tr>\n",
       "    <tr>\n",
       "      <th>State</th>\n",
       "      <th></th>\n",
       "      <th></th>\n",
       "    </tr>\n",
       "  </thead>\n",
       "  <tbody>\n",
       "    <tr>\n",
       "      <th>IL</th>\n",
       "      <td>3.0</td>\n",
       "      <td>11.0</td>\n",
       "    </tr>\n",
       "    <tr>\n",
       "      <th>ME</th>\n",
       "      <td>NaN</td>\n",
       "      <td>4.0</td>\n",
       "    </tr>\n",
       "    <tr>\n",
       "      <th>MI</th>\n",
       "      <td>1.0</td>\n",
       "      <td>6.0</td>\n",
       "    </tr>\n",
       "  </tbody>\n",
       "</table>\n",
       "</div>"
      ],
      "text/plain": [
       "Location  Rural  Urban\n",
       "State                 \n",
       "IL          3.0   11.0\n",
       "ME          NaN    4.0\n",
       "MI          1.0    6.0"
      ]
     },
     "execution_count": 11,
     "metadata": {},
     "output_type": "execute_result"
    }
   ],
   "source": [
    "state_location = df.groupby('State')['Location'].value_counts().unstack()\n",
    "state_location.head(3)"
   ]
  },
  {
   "cell_type": "code",
   "execution_count": 12,
   "metadata": {},
   "outputs": [
    {
     "data": {
      "text/html": [
       "<div>\n",
       "<style scoped>\n",
       "    .dataframe tbody tr th:only-of-type {\n",
       "        vertical-align: middle;\n",
       "    }\n",
       "\n",
       "    .dataframe tbody tr th {\n",
       "        vertical-align: top;\n",
       "    }\n",
       "\n",
       "    .dataframe thead th {\n",
       "        text-align: right;\n",
       "    }\n",
       "</style>\n",
       "<table border=\"1\" class=\"dataframe\">\n",
       "  <thead>\n",
       "    <tr style=\"text-align: right;\">\n",
       "      <th>Location</th>\n",
       "      <th>Rural</th>\n",
       "      <th>Urban</th>\n",
       "    </tr>\n",
       "    <tr>\n",
       "      <th>State</th>\n",
       "      <th></th>\n",
       "      <th></th>\n",
       "    </tr>\n",
       "  </thead>\n",
       "  <tbody>\n",
       "    <tr>\n",
       "      <th>IL</th>\n",
       "      <td>3</td>\n",
       "      <td>11</td>\n",
       "    </tr>\n",
       "    <tr>\n",
       "      <th>ME</th>\n",
       "      <td>0</td>\n",
       "      <td>4</td>\n",
       "    </tr>\n",
       "    <tr>\n",
       "      <th>MI</th>\n",
       "      <td>1</td>\n",
       "      <td>6</td>\n",
       "    </tr>\n",
       "  </tbody>\n",
       "</table>\n",
       "</div>"
      ],
      "text/plain": [
       "Location  Rural  Urban\n",
       "State                 \n",
       "IL            3     11\n",
       "ME            0      4\n",
       "MI            1      6"
      ]
     },
     "execution_count": 12,
     "metadata": {},
     "output_type": "execute_result"
    }
   ],
   "source": [
    "state_location['Rural'] =state_location['Rural'].fillna(0).astype('int')\n",
    "state_location['Urban'] =state_location['Urban'].fillna(0).astype('int')\n",
    "state_location.head(3)"
   ]
  },
  {
   "cell_type": "code",
   "execution_count": 35,
   "metadata": {},
   "outputs": [
    {
     "data": {
      "text/plain": [
       "<Figure size 432x288 with 0 Axes>"
      ]
     },
     "metadata": {},
     "output_type": "display_data"
    },
    {
     "data": {
      "image/png": "[encoded data removed]",
      "text/plain": [
       "<Figure size 864x432 with 1 Axes>"
      ]
     },
     "metadata": {
      "needs_background": "light"
     },
     "output_type": "display_data"
    }
   ],
   "source": [
    "plt.clf()\n",
    "state_location.plot(kind='bar')\n",
    "plt.gcf().set_size_inches(12, 6)\n",
    "plt.xlabel('State', fontsize=15)\n",
    "plt.ylabel('Total Number', fontsize=15)\n",
    "plt.title(' Total Amount of Insurance in Each State', fontsize=20)\n",
    "plt.show()"
   ]
  },
  {
   "cell_type": "markdown",
   "metadata": {},
   "source": [
    "#### Melihat banyaknya tipe bisnis"
   ]
  },
  {
   "cell_type": "code",
   "execution_count": 14,
   "metadata": {},
   "outputs": [
    {
     "data": {
      "text/plain": [
       "Apartment        169\n",
       "Farming          117\n",
       "Office Bldg       99\n",
       "Hospitality       34\n",
       "Retail            25\n",
       "Manufacturing     16\n",
       "Organization      15\n",
       "Construction       7\n",
       "Service            6\n",
       "Other              6\n",
       "Recreation         3\n",
       "Medical            2\n",
       "Education          1\n",
       "Name: BusinessType, dtype: int64"
      ]
     },
     "execution_count": 14,
     "metadata": {},
     "output_type": "execute_result"
    }
   ],
   "source": [
    "business_type = df['BusinessType'].value_counts()\n",
    "business_type"
   ]
  },
  {
   "cell_type": "code",
   "execution_count": 34,
   "metadata": {},
   "outputs": [
    {
     "name": "stderr",
     "output_type": "stream",
     "text": [
      "/home/rohmi/anaconda3/lib/python3.7/site-packages/ipykernel_launcher.py:3: MatplotlibDeprecationWarning: Case-insensitive properties were deprecated in 3.3 and support will be removed two minor releases later\n",
      "  This is separate from the ipykernel package so we can avoid doing imports until\n"
     ]
    },
    {
     "data": {
      "image/png": "[encoded data removed]",
      "text/plain": [
       "<Figure size 720x432 with 1 Axes>"
      ]
     },
     "metadata": {
      "needs_background": "light"
     },
     "output_type": "display_data"
    }
   ],
   "source": [
    "plt.figure(figsize=(10,6))\n",
    "sns.countplot(x='BusinessType', data=df, palette='husl')\n",
    "plt.xticks(Rotation=45)\n",
    "plt.xlabel('Business Type', fontsize=15)\n",
    "plt.ylabel('Total Number', fontsize=15)\n",
    "plt.title('Total Number of Insurance Types(Business Type)', fontsize=20)\n",
    "plt.show()"
   ]
  },
  {
   "cell_type": "code",
   "execution_count": 16,
   "metadata": {},
   "outputs": [
    {
     "data": {
      "text/html": [
       "<div>\n",
       "<style scoped>\n",
       "    .dataframe tbody tr th:only-of-type {\n",
       "        vertical-align: middle;\n",
       "    }\n",
       "\n",
       "    .dataframe tbody tr th {\n",
       "        vertical-align: top;\n",
       "    }\n",
       "\n",
       "    .dataframe thead th {\n",
       "        text-align: right;\n",
       "    }\n",
       "</style>\n",
       "<table border=\"1\" class=\"dataframe\">\n",
       "  <thead>\n",
       "    <tr style=\"text-align: right;\">\n",
       "      <th>Construction</th>\n",
       "      <th>Fire Resist</th>\n",
       "      <th>Frame</th>\n",
       "      <th>Masonry</th>\n",
       "      <th>Metal Clad</th>\n",
       "    </tr>\n",
       "    <tr>\n",
       "      <th>BusinessType</th>\n",
       "      <th></th>\n",
       "      <th></th>\n",
       "      <th></th>\n",
       "      <th></th>\n",
       "    </tr>\n",
       "  </thead>\n",
       "  <tbody>\n",
       "    <tr>\n",
       "      <th>Apartment</th>\n",
       "      <td>19.0</td>\n",
       "      <td>112.0</td>\n",
       "      <td>35.0</td>\n",
       "      <td>3.0</td>\n",
       "    </tr>\n",
       "    <tr>\n",
       "      <th>Construction</th>\n",
       "      <td>1.0</td>\n",
       "      <td>5.0</td>\n",
       "      <td>1.0</td>\n",
       "      <td>NaN</td>\n",
       "    </tr>\n",
       "    <tr>\n",
       "      <th>Education</th>\n",
       "      <td>NaN</td>\n",
       "      <td>1.0</td>\n",
       "      <td>NaN</td>\n",
       "      <td>NaN</td>\n",
       "    </tr>\n",
       "    <tr>\n",
       "      <th>Farming</th>\n",
       "      <td>NaN</td>\n",
       "      <td>93.0</td>\n",
       "      <td>10.0</td>\n",
       "      <td>14.0</td>\n",
       "    </tr>\n",
       "    <tr>\n",
       "      <th>Hospitality</th>\n",
       "      <td>5.0</td>\n",
       "      <td>16.0</td>\n",
       "      <td>11.0</td>\n",
       "      <td>2.0</td>\n",
       "    </tr>\n",
       "    <tr>\n",
       "      <th>Manufacturing</th>\n",
       "      <td>1.0</td>\n",
       "      <td>7.0</td>\n",
       "      <td>3.0</td>\n",
       "      <td>5.0</td>\n",
       "    </tr>\n",
       "    <tr>\n",
       "      <th>Medical</th>\n",
       "      <td>NaN</td>\n",
       "      <td>1.0</td>\n",
       "      <td>1.0</td>\n",
       "      <td>NaN</td>\n",
       "    </tr>\n",
       "    <tr>\n",
       "      <th>Office Bldg</th>\n",
       "      <td>6.0</td>\n",
       "      <td>63.0</td>\n",
       "      <td>26.0</td>\n",
       "      <td>4.0</td>\n",
       "    </tr>\n",
       "    <tr>\n",
       "      <th>Organization</th>\n",
       "      <td>NaN</td>\n",
       "      <td>9.0</td>\n",
       "      <td>6.0</td>\n",
       "      <td>NaN</td>\n",
       "    </tr>\n",
       "    <tr>\n",
       "      <th>Other</th>\n",
       "      <td>NaN</td>\n",
       "      <td>3.0</td>\n",
       "      <td>3.0</td>\n",
       "      <td>NaN</td>\n",
       "    </tr>\n",
       "    <tr>\n",
       "      <th>Recreation</th>\n",
       "      <td>NaN</td>\n",
       "      <td>2.0</td>\n",
       "      <td>1.0</td>\n",
       "      <td>NaN</td>\n",
       "    </tr>\n",
       "    <tr>\n",
       "      <th>Retail</th>\n",
       "      <td>5.0</td>\n",
       "      <td>9.0</td>\n",
       "      <td>8.0</td>\n",
       "      <td>3.0</td>\n",
       "    </tr>\n",
       "    <tr>\n",
       "      <th>Service</th>\n",
       "      <td>2.0</td>\n",
       "      <td>1.0</td>\n",
       "      <td>3.0</td>\n",
       "      <td>NaN</td>\n",
       "    </tr>\n",
       "  </tbody>\n",
       "</table>\n",
       "</div>"
      ],
      "text/plain": [
       "Construction   Fire Resist  Frame  Masonry  Metal Clad\n",
       "BusinessType                                          \n",
       "Apartment             19.0  112.0     35.0         3.0\n",
       "Construction           1.0    5.0      1.0         NaN\n",
       "Education              NaN    1.0      NaN         NaN\n",
       "Farming                NaN   93.0     10.0        14.0\n",
       "Hospitality            5.0   16.0     11.0         2.0\n",
       "Manufacturing          1.0    7.0      3.0         5.0\n",
       "Medical                NaN    1.0      1.0         NaN\n",
       "Office Bldg            6.0   63.0     26.0         4.0\n",
       "Organization           NaN    9.0      6.0         NaN\n",
       "Other                  NaN    3.0      3.0         NaN\n",
       "Recreation             NaN    2.0      1.0         NaN\n",
       "Retail                 5.0    9.0      8.0         3.0\n",
       "Service                2.0    1.0      3.0         NaN"
      ]
     },
     "execution_count": 16,
     "metadata": {},
     "output_type": "execute_result"
    }
   ],
   "source": [
    "business_construction = df.groupby('BusinessType')['Construction'].value_counts().unstack()\n",
    "business_construction"
   ]
  },
  {
   "cell_type": "code",
   "execution_count": 17,
   "metadata": {},
   "outputs": [
    {
     "data": {
      "text/html": [
       "<div>\n",
       "<style scoped>\n",
       "    .dataframe tbody tr th:only-of-type {\n",
       "        vertical-align: middle;\n",
       "    }\n",
       "\n",
       "    .dataframe tbody tr th {\n",
       "        vertical-align: top;\n",
       "    }\n",
       "\n",
       "    .dataframe thead th {\n",
       "        text-align: right;\n",
       "    }\n",
       "</style>\n",
       "<table border=\"1\" class=\"dataframe\">\n",
       "  <thead>\n",
       "    <tr style=\"text-align: right;\">\n",
       "      <th>Construction</th>\n",
       "      <th>Fire Resist</th>\n",
       "      <th>Frame</th>\n",
       "      <th>Masonry</th>\n",
       "      <th>Metal Clad</th>\n",
       "    </tr>\n",
       "    <tr>\n",
       "      <th>BusinessType</th>\n",
       "      <th></th>\n",
       "      <th></th>\n",
       "      <th></th>\n",
       "      <th></th>\n",
       "    </tr>\n",
       "  </thead>\n",
       "  <tbody>\n",
       "    <tr>\n",
       "      <th>Apartment</th>\n",
       "      <td>19</td>\n",
       "      <td>112</td>\n",
       "      <td>35</td>\n",
       "      <td>3</td>\n",
       "    </tr>\n",
       "    <tr>\n",
       "      <th>Construction</th>\n",
       "      <td>1</td>\n",
       "      <td>5</td>\n",
       "      <td>1</td>\n",
       "      <td>0</td>\n",
       "    </tr>\n",
       "    <tr>\n",
       "      <th>Education</th>\n",
       "      <td>0</td>\n",
       "      <td>1</td>\n",
       "      <td>0</td>\n",
       "      <td>0</td>\n",
       "    </tr>\n",
       "    <tr>\n",
       "      <th>Farming</th>\n",
       "      <td>0</td>\n",
       "      <td>93</td>\n",
       "      <td>10</td>\n",
       "      <td>14</td>\n",
       "    </tr>\n",
       "    <tr>\n",
       "      <th>Hospitality</th>\n",
       "      <td>5</td>\n",
       "      <td>16</td>\n",
       "      <td>11</td>\n",
       "      <td>2</td>\n",
       "    </tr>\n",
       "    <tr>\n",
       "      <th>Manufacturing</th>\n",
       "      <td>1</td>\n",
       "      <td>7</td>\n",
       "      <td>3</td>\n",
       "      <td>5</td>\n",
       "    </tr>\n",
       "    <tr>\n",
       "      <th>Medical</th>\n",
       "      <td>0</td>\n",
       "      <td>1</td>\n",
       "      <td>1</td>\n",
       "      <td>0</td>\n",
       "    </tr>\n",
       "    <tr>\n",
       "      <th>Office Bldg</th>\n",
       "      <td>6</td>\n",
       "      <td>63</td>\n",
       "      <td>26</td>\n",
       "      <td>4</td>\n",
       "    </tr>\n",
       "    <tr>\n",
       "      <th>Organization</th>\n",
       "      <td>0</td>\n",
       "      <td>9</td>\n",
       "      <td>6</td>\n",
       "      <td>0</td>\n",
       "    </tr>\n",
       "    <tr>\n",
       "      <th>Other</th>\n",
       "      <td>0</td>\n",
       "      <td>3</td>\n",
       "      <td>3</td>\n",
       "      <td>0</td>\n",
       "    </tr>\n",
       "    <tr>\n",
       "      <th>Recreation</th>\n",
       "      <td>0</td>\n",
       "      <td>2</td>\n",
       "      <td>1</td>\n",
       "      <td>0</td>\n",
       "    </tr>\n",
       "    <tr>\n",
       "      <th>Retail</th>\n",
       "      <td>5</td>\n",
       "      <td>9</td>\n",
       "      <td>8</td>\n",
       "      <td>3</td>\n",
       "    </tr>\n",
       "    <tr>\n",
       "      <th>Service</th>\n",
       "      <td>2</td>\n",
       "      <td>1</td>\n",
       "      <td>3</td>\n",
       "      <td>0</td>\n",
       "    </tr>\n",
       "  </tbody>\n",
       "</table>\n",
       "</div>"
      ],
      "text/plain": [
       "Construction   Fire Resist  Frame  Masonry  Metal Clad\n",
       "BusinessType                                          \n",
       "Apartment               19    112       35           3\n",
       "Construction             1      5        1           0\n",
       "Education                0      1        0           0\n",
       "Farming                  0     93       10          14\n",
       "Hospitality              5     16       11           2\n",
       "Manufacturing            1      7        3           5\n",
       "Medical                  0      1        1           0\n",
       "Office Bldg              6     63       26           4\n",
       "Organization             0      9        6           0\n",
       "Other                    0      3        3           0\n",
       "Recreation               0      2        1           0\n",
       "Retail                   5      9        8           3\n",
       "Service                  2      1        3           0"
      ]
     },
     "execution_count": 17,
     "metadata": {},
     "output_type": "execute_result"
    }
   ],
   "source": [
    "business_construction['Fire Resist'] = business_construction['Fire Resist'].fillna(0).astype('int')\n",
    "business_construction['Frame'] = business_construction['Frame'].fillna(0).astype('int')\n",
    "business_construction['Masonry'] = business_construction['Masonry'].fillna(0).astype('int')\n",
    "business_construction['Metal Clad'] = business_construction['Metal Clad'].fillna(0).astype('int')\n",
    "business_construction"
   ]
  },
  {
   "cell_type": "code",
   "execution_count": 33,
   "metadata": {},
   "outputs": [
    {
     "name": "stderr",
     "output_type": "stream",
     "text": [
      "/home/rohmi/anaconda3/lib/python3.7/site-packages/ipykernel_launcher.py:3: MatplotlibDeprecationWarning: Case-insensitive properties were deprecated in 3.3 and support will be removed two minor releases later\n",
      "  This is separate from the ipykernel package so we can avoid doing imports until\n"
     ]
    },
    {
     "data": {
      "text/plain": [
       "<Figure size 432x288 with 0 Axes>"
      ]
     },
     "metadata": {},
     "output_type": "display_data"
    },
    {
     "data": {
      "image/png": "[encoded data removed]",
      "text/plain": [
       "<Figure size 864x432 with 1 Axes>"
      ]
     },
     "metadata": {
      "needs_background": "light"
     },
     "output_type": "display_data"
    }
   ],
   "source": [
    "plt.clf()\n",
    "business_construction.plot(kind='bar')\n",
    "plt.xticks(Rotation=30)\n",
    "plt.xlabel('Business Type', fontsize=15)\n",
    "plt.ylabel('Total Number', fontsize=15)\n",
    "plt.title('Comparison of Construction Types in Each Business Type', fontsize=20)\n",
    "plt.gcf().set_size_inches(12, 6)"
   ]
  },
  {
   "cell_type": "code",
   "execution_count": 19,
   "metadata": {},
   "outputs": [
    {
     "data": {
      "text/html": [
       "<div>\n",
       "<style scoped>\n",
       "    .dataframe tbody tr th:only-of-type {\n",
       "        vertical-align: middle;\n",
       "    }\n",
       "\n",
       "    .dataframe tbody tr th {\n",
       "        vertical-align: top;\n",
       "    }\n",
       "\n",
       "    .dataframe thead th {\n",
       "        text-align: right;\n",
       "    }\n",
       "</style>\n",
       "<table border=\"1\" class=\"dataframe\">\n",
       "  <thead>\n",
       "    <tr style=\"text-align: right;\">\n",
       "      <th></th>\n",
       "      <th>index</th>\n",
       "      <th>Construction</th>\n",
       "    </tr>\n",
       "  </thead>\n",
       "  <tbody>\n",
       "    <tr>\n",
       "      <th>0</th>\n",
       "      <td>Frame</td>\n",
       "      <td>322</td>\n",
       "    </tr>\n",
       "    <tr>\n",
       "      <th>1</th>\n",
       "      <td>Masonry</td>\n",
       "      <td>108</td>\n",
       "    </tr>\n",
       "    <tr>\n",
       "      <th>2</th>\n",
       "      <td>Fire Resist</td>\n",
       "      <td>39</td>\n",
       "    </tr>\n",
       "    <tr>\n",
       "      <th>3</th>\n",
       "      <td>Metal Clad</td>\n",
       "      <td>31</td>\n",
       "    </tr>\n",
       "  </tbody>\n",
       "</table>\n",
       "</div>"
      ],
      "text/plain": [
       "         index  Construction\n",
       "0        Frame           322\n",
       "1      Masonry           108\n",
       "2  Fire Resist            39\n",
       "3   Metal Clad            31"
      ]
     },
     "execution_count": 19,
     "metadata": {},
     "output_type": "execute_result"
    }
   ],
   "source": [
    "construction_type = df['Construction'].value_counts().reset_index()\n",
    "construction_type"
   ]
  },
  {
   "cell_type": "code",
   "execution_count": 37,
   "metadata": {},
   "outputs": [
    {
     "data": {
      "image/png": "[encoded data removed]",
      "text/plain": [
       "<Figure size 576x432 with 1 Axes>"
      ]
     },
     "metadata": {
      "needs_background": "light"
     },
     "output_type": "display_data"
    }
   ],
   "source": [
    "plt.figure(figsize=(8,6))\n",
    "sns.countplot(x='Construction', data=df, palette='colorblind')\n",
    "plt.title('Total Number of Construction Type', fontsize=20)\n",
    "plt.show()"
   ]
  },
  {
   "cell_type": "code",
   "execution_count": 21,
   "metadata": {},
   "outputs": [
    {
     "data": {
      "text/plain": [
       "10"
      ]
     },
     "execution_count": 21,
     "metadata": {},
     "output_type": "execute_result"
    }
   ],
   "source": [
    "df['State'].nunique()"
   ]
  },
  {
   "cell_type": "code",
   "execution_count": 22,
   "metadata": {},
   "outputs": [
    {
     "data": {
      "image/png": "[encoded data removed]",
      "text/plain": [
       "<Figure size 720x432 with 1 Axes>"
      ]
     },
     "metadata": {
      "needs_background": "light"
     },
     "output_type": "display_data"
    }
   ],
   "source": [
    "plt.figure(figsize=(10,6))\n",
    "sns.countplot(x='Month Expiry', data=df, palette='colorblind')\n",
    "plt.title('Total Expiry per Month', fontsize=20)\n",
    "plt.show()"
   ]
  },
  {
   "cell_type": "code",
   "execution_count": 23,
   "metadata": {},
   "outputs": [
    {
     "data": {
      "text/html": [
       "<div>\n",
       "<style scoped>\n",
       "    .dataframe tbody tr th:only-of-type {\n",
       "        vertical-align: middle;\n",
       "    }\n",
       "\n",
       "    .dataframe tbody tr th {\n",
       "        vertical-align: top;\n",
       "    }\n",
       "\n",
       "    .dataframe thead th {\n",
       "        text-align: right;\n",
       "    }\n",
       "</style>\n",
       "<table border=\"1\" class=\"dataframe\">\n",
       "  <thead>\n",
       "    <tr style=\"text-align: right;\">\n",
       "      <th></th>\n",
       "      <th>Region</th>\n",
       "      <th>InsuredValue</th>\n",
       "    </tr>\n",
       "  </thead>\n",
       "  <tbody>\n",
       "    <tr>\n",
       "      <th>0</th>\n",
       "      <td>Central</td>\n",
       "      <td>49273593</td>\n",
       "    </tr>\n",
       "    <tr>\n",
       "      <th>1</th>\n",
       "      <td>East</td>\n",
       "      <td>1826021818</td>\n",
       "    </tr>\n",
       "    <tr>\n",
       "      <th>2</th>\n",
       "      <td>Midwest</td>\n",
       "      <td>468727102</td>\n",
       "    </tr>\n",
       "    <tr>\n",
       "      <th>3</th>\n",
       "      <td>Northeast</td>\n",
       "      <td>138182968</td>\n",
       "    </tr>\n",
       "  </tbody>\n",
       "</table>\n",
       "</div>"
      ],
      "text/plain": [
       "      Region  InsuredValue\n",
       "0    Central      49273593\n",
       "1       East    1826021818\n",
       "2    Midwest     468727102\n",
       "3  Northeast     138182968"
      ]
     },
     "execution_count": 23,
     "metadata": {},
     "output_type": "execute_result"
    }
   ],
   "source": [
    "value_distribution = df.groupby('Region')['InsuredValue'].sum().reset_index()\n",
    "value_distribution"
   ]
  },
  {
   "cell_type": "code",
   "execution_count": 28,
   "metadata": {},
   "outputs": [
    {
     "data": {
      "image/png": "[encoded data removed]",
      "text/plain": [
       "<Figure size 576x432 with 1 Axes>"
      ]
     },
     "metadata": {},
     "output_type": "display_data"
    }
   ],
   "source": [
    "plt.figure(figsize=(8,6))\n",
    "plt.pie(value_distribution['InsuredValue'], labels= value_distribution['Region'], autopct='%1.2f%%')\n",
    "plt.title('Distribution of Insurance Value Per Region ', fontsize=20)\n",
    "plt.show()"
   ]
  },
  {
   "cell_type": "markdown",
   "metadata": {},
   "source": [
    "#### Melihat jumlah asuransi untuk bencana >> earthquake/flood"
   ]
  },
  {
   "cell_type": "code",
   "execution_count": 25,
   "metadata": {},
   "outputs": [
    {
     "data": {
      "text/html": [
       "<div>\n",
       "<style scoped>\n",
       "    .dataframe tbody tr th:only-of-type {\n",
       "        vertical-align: middle;\n",
       "    }\n",
       "\n",
       "    .dataframe tbody tr th {\n",
       "        vertical-align: top;\n",
       "    }\n",
       "\n",
       "    .dataframe thead th {\n",
       "        text-align: right;\n",
       "    }\n",
       "</style>\n",
       "<table border=\"1\" class=\"dataframe\">\n",
       "  <thead>\n",
       "    <tr style=\"text-align: right;\">\n",
       "      <th></th>\n",
       "      <th>Policy</th>\n",
       "      <th>Expiry</th>\n",
       "      <th>Location</th>\n",
       "      <th>State</th>\n",
       "      <th>Region</th>\n",
       "      <th>InsuredValue</th>\n",
       "      <th>Construction</th>\n",
       "      <th>BusinessType</th>\n",
       "      <th>Earthquake</th>\n",
       "      <th>Flood</th>\n",
       "      <th>Month Expiry</th>\n",
       "    </tr>\n",
       "  </thead>\n",
       "  <tbody>\n",
       "    <tr>\n",
       "      <th>0</th>\n",
       "      <td>100242</td>\n",
       "      <td>2021-01-02</td>\n",
       "      <td>Urban</td>\n",
       "      <td>NY</td>\n",
       "      <td>East</td>\n",
       "      <td>1617630</td>\n",
       "      <td>Frame</td>\n",
       "      <td>Retail</td>\n",
       "      <td>1</td>\n",
       "      <td>1</td>\n",
       "      <td>2021-01</td>\n",
       "    </tr>\n",
       "    <tr>\n",
       "      <th>1</th>\n",
       "      <td>100314</td>\n",
       "      <td>2021-01-02</td>\n",
       "      <td>Urban</td>\n",
       "      <td>NY</td>\n",
       "      <td>East</td>\n",
       "      <td>8678500</td>\n",
       "      <td>Fire Resist</td>\n",
       "      <td>Apartment</td>\n",
       "      <td>0</td>\n",
       "      <td>0</td>\n",
       "      <td>2021-01</td>\n",
       "    </tr>\n",
       "    <tr>\n",
       "      <th>2</th>\n",
       "      <td>100359</td>\n",
       "      <td>2021-01-02</td>\n",
       "      <td>Rural</td>\n",
       "      <td>WI</td>\n",
       "      <td>Midwest</td>\n",
       "      <td>2052660</td>\n",
       "      <td>Frame</td>\n",
       "      <td>Farming</td>\n",
       "      <td>1</td>\n",
       "      <td>1</td>\n",
       "      <td>2021-01</td>\n",
       "    </tr>\n",
       "  </tbody>\n",
       "</table>\n",
       "</div>"
      ],
      "text/plain": [
       "   Policy     Expiry Location State   Region  InsuredValue Construction  \\\n",
       "0  100242 2021-01-02    Urban    NY     East       1617630        Frame   \n",
       "1  100314 2021-01-02    Urban    NY     East       8678500  Fire Resist   \n",
       "2  100359 2021-01-02    Rural    WI  Midwest       2052660        Frame   \n",
       "\n",
       "  BusinessType  Earthquake  Flood Month Expiry  \n",
       "0       Retail           1      1      2021-01  \n",
       "1    Apartment           0      0      2021-01  \n",
       "2      Farming           1      1      2021-01  "
      ]
     },
     "execution_count": 25,
     "metadata": {},
     "output_type": "execute_result"
    }
   ],
   "source": [
    "df['Earthquake'] = pd.get_dummies(df['Earthquake'])\n",
    "df['Flood'] = pd.get_dummies(df['Flood'])\n",
    "df.head(3)"
   ]
  },
  {
   "cell_type": "code",
   "execution_count": 26,
   "metadata": {},
   "outputs": [
    {
     "data": {
      "text/html": [
       "<div>\n",
       "<style scoped>\n",
       "    .dataframe tbody tr th:only-of-type {\n",
       "        vertical-align: middle;\n",
       "    }\n",
       "\n",
       "    .dataframe tbody tr th {\n",
       "        vertical-align: top;\n",
       "    }\n",
       "\n",
       "    .dataframe thead th {\n",
       "        text-align: right;\n",
       "    }\n",
       "</style>\n",
       "<table border=\"1\" class=\"dataframe\">\n",
       "  <thead>\n",
       "    <tr style=\"text-align: right;\">\n",
       "      <th></th>\n",
       "      <th>Policy</th>\n",
       "      <th>Expiry</th>\n",
       "      <th>Location</th>\n",
       "      <th>State</th>\n",
       "      <th>Region</th>\n",
       "      <th>InsuredValue</th>\n",
       "      <th>Construction</th>\n",
       "      <th>BusinessType</th>\n",
       "      <th>Earthquake</th>\n",
       "      <th>Flood</th>\n",
       "      <th>Month Expiry</th>\n",
       "      <th>Disaster Type</th>\n",
       "    </tr>\n",
       "  </thead>\n",
       "  <tbody>\n",
       "    <tr>\n",
       "      <th>0</th>\n",
       "      <td>100242</td>\n",
       "      <td>2021-01-02</td>\n",
       "      <td>Urban</td>\n",
       "      <td>NY</td>\n",
       "      <td>East</td>\n",
       "      <td>1617630</td>\n",
       "      <td>Frame</td>\n",
       "      <td>Retail</td>\n",
       "      <td>1</td>\n",
       "      <td>1</td>\n",
       "      <td>2021-01</td>\n",
       "      <td>3</td>\n",
       "    </tr>\n",
       "    <tr>\n",
       "      <th>1</th>\n",
       "      <td>100314</td>\n",
       "      <td>2021-01-02</td>\n",
       "      <td>Urban</td>\n",
       "      <td>NY</td>\n",
       "      <td>East</td>\n",
       "      <td>8678500</td>\n",
       "      <td>Fire Resist</td>\n",
       "      <td>Apartment</td>\n",
       "      <td>0</td>\n",
       "      <td>0</td>\n",
       "      <td>2021-01</td>\n",
       "      <td>1</td>\n",
       "    </tr>\n",
       "    <tr>\n",
       "      <th>2</th>\n",
       "      <td>100359</td>\n",
       "      <td>2021-01-02</td>\n",
       "      <td>Rural</td>\n",
       "      <td>WI</td>\n",
       "      <td>Midwest</td>\n",
       "      <td>2052660</td>\n",
       "      <td>Frame</td>\n",
       "      <td>Farming</td>\n",
       "      <td>1</td>\n",
       "      <td>1</td>\n",
       "      <td>2021-01</td>\n",
       "      <td>3</td>\n",
       "    </tr>\n",
       "    <tr>\n",
       "      <th>3</th>\n",
       "      <td>100315</td>\n",
       "      <td>2021-01-03</td>\n",
       "      <td>Urban</td>\n",
       "      <td>NY</td>\n",
       "      <td>East</td>\n",
       "      <td>17580000</td>\n",
       "      <td>Frame</td>\n",
       "      <td>Apartment</td>\n",
       "      <td>0</td>\n",
       "      <td>0</td>\n",
       "      <td>2021-01</td>\n",
       "      <td>1</td>\n",
       "    </tr>\n",
       "    <tr>\n",
       "      <th>4</th>\n",
       "      <td>100385</td>\n",
       "      <td>2021-01-03</td>\n",
       "      <td>Urban</td>\n",
       "      <td>NY</td>\n",
       "      <td>East</td>\n",
       "      <td>1925000</td>\n",
       "      <td>Masonry</td>\n",
       "      <td>Hospitality</td>\n",
       "      <td>1</td>\n",
       "      <td>1</td>\n",
       "      <td>2021-01</td>\n",
       "      <td>3</td>\n",
       "    </tr>\n",
       "    <tr>\n",
       "      <th>5</th>\n",
       "      <td>100388</td>\n",
       "      <td>2021-01-04</td>\n",
       "      <td>Urban</td>\n",
       "      <td>IL</td>\n",
       "      <td>Midwest</td>\n",
       "      <td>12934500</td>\n",
       "      <td>Frame</td>\n",
       "      <td>Apartment</td>\n",
       "      <td>0</td>\n",
       "      <td>0</td>\n",
       "      <td>2021-01</td>\n",
       "      <td>1</td>\n",
       "    </tr>\n",
       "    <tr>\n",
       "      <th>6</th>\n",
       "      <td>100358</td>\n",
       "      <td>2021-01-05</td>\n",
       "      <td>Urban</td>\n",
       "      <td>WI</td>\n",
       "      <td>Midwest</td>\n",
       "      <td>928300</td>\n",
       "      <td>Masonry</td>\n",
       "      <td>Office Bldg</td>\n",
       "      <td>1</td>\n",
       "      <td>1</td>\n",
       "      <td>2021-01</td>\n",
       "      <td>3</td>\n",
       "    </tr>\n",
       "    <tr>\n",
       "      <th>7</th>\n",
       "      <td>100264</td>\n",
       "      <td>2021-01-07</td>\n",
       "      <td>Rural</td>\n",
       "      <td>NY</td>\n",
       "      <td>East</td>\n",
       "      <td>2219900</td>\n",
       "      <td>Frame</td>\n",
       "      <td>Farming</td>\n",
       "      <td>1</td>\n",
       "      <td>1</td>\n",
       "      <td>2021-01</td>\n",
       "      <td>3</td>\n",
       "    </tr>\n",
       "    <tr>\n",
       "      <th>8</th>\n",
       "      <td>100265</td>\n",
       "      <td>2021-01-07</td>\n",
       "      <td>Urban</td>\n",
       "      <td>NY</td>\n",
       "      <td>East</td>\n",
       "      <td>14100000</td>\n",
       "      <td>Frame</td>\n",
       "      <td>Apartment</td>\n",
       "      <td>0</td>\n",
       "      <td>0</td>\n",
       "      <td>2021-01</td>\n",
       "      <td>1</td>\n",
       "    </tr>\n",
       "    <tr>\n",
       "      <th>9</th>\n",
       "      <td>100357</td>\n",
       "      <td>2021-01-08</td>\n",
       "      <td>Urban</td>\n",
       "      <td>NY</td>\n",
       "      <td>East</td>\n",
       "      <td>4762808</td>\n",
       "      <td>Masonry</td>\n",
       "      <td>Other</td>\n",
       "      <td>0</td>\n",
       "      <td>0</td>\n",
       "      <td>2021-01</td>\n",
       "      <td>1</td>\n",
       "    </tr>\n",
       "  </tbody>\n",
       "</table>\n",
       "</div>"
      ],
      "text/plain": [
       "   Policy     Expiry Location State   Region  InsuredValue Construction  \\\n",
       "0  100242 2021-01-02    Urban    NY     East       1617630        Frame   \n",
       "1  100314 2021-01-02    Urban    NY     East       8678500  Fire Resist   \n",
       "2  100359 2021-01-02    Rural    WI  Midwest       2052660        Frame   \n",
       "3  100315 2021-01-03    Urban    NY     East      17580000        Frame   \n",
       "4  100385 2021-01-03    Urban    NY     East       1925000      Masonry   \n",
       "5  100388 2021-01-04    Urban    IL  Midwest      12934500        Frame   \n",
       "6  100358 2021-01-05    Urban    WI  Midwest        928300      Masonry   \n",
       "7  100264 2021-01-07    Rural    NY     East       2219900        Frame   \n",
       "8  100265 2021-01-07    Urban    NY     East      14100000        Frame   \n",
       "9  100357 2021-01-08    Urban    NY     East       4762808      Masonry   \n",
       "\n",
       "  BusinessType  Earthquake  Flood Month Expiry  Disaster Type  \n",
       "0       Retail           1      1      2021-01              3  \n",
       "1    Apartment           0      0      2021-01              1  \n",
       "2      Farming           1      1      2021-01              3  \n",
       "3    Apartment           0      0      2021-01              1  \n",
       "4  Hospitality           1      1      2021-01              3  \n",
       "5    Apartment           0      0      2021-01              1  \n",
       "6  Office Bldg           1      1      2021-01              3  \n",
       "7      Farming           1      1      2021-01              3  \n",
       "8    Apartment           0      0      2021-01              1  \n",
       "9        Other           0      0      2021-01              1  "
      ]
     },
     "execution_count": 26,
     "metadata": {},
     "output_type": "execute_result"
    }
   ],
   "source": [
    "df['Disaster Type'] = df.apply(lambda row:3 if row['Earthquake']==1 & row['Flood']==1 else (1 if row['Earthquake']== 1 & row['Flood']==0 else 2 ), axis=1)\n",
    "df.head(10)"
   ]
  },
  {
   "cell_type": "code",
   "execution_count": 27,
   "metadata": {},
   "outputs": [
    {
     "data": {
      "image/png": "[encoded data removed]",
      "text/plain": [
       "<Figure size 576x432 with 1 Axes>"
      ]
     },
     "metadata": {
      "needs_background": "light"
     },
     "output_type": "display_data"
    }
   ],
   "source": [
    "plt.figure(figsize=(8,6))\n",
    "ax = sns.countplot(x='Disaster Type', data=df, palette='Set2')\n",
    "for p in ax.patches:\n",
    "    width, height = p.get_width(), p.get_height()\n",
    "    x,y= p.get_xy()\n",
    "    ax.text(x+width/2, y+height, '{:.0f}'.format(height), ha='center')\n",
    "plt.xlabel('Disaster Type Insurance', fontsize=15)\n",
    "plt.ylabel('Total', fontsize=15)\n",
    "plt.title('Total Disaster Insurance Type', fontsize=20)\n",
    "plt.xticks([0,1,2], ['Earthquake', 'Flood','Earthquake & Flood'])\n",
    "plt.show()"
   ]
  },
  {
   "cell_type": "code",
   "execution_count": null,
   "metadata": {},
   "outputs": [],
   "source": []
  }
 ],
 "metadata": {
  "kernelspec": {
   "display_name": "Python 3",
   "language": "python",
   "name": "python3"
  },
  "language_info": {
   "codemirror_mode": {
    "name": "ipython",
    "version": 3
   },
   "file_extension": ".py",
   "mimetype": "text/x-python",
   "name": "python",
   "nbconvert_exporter": "python",
   "pygments_lexer": "ipython3",
   "version": "3.7.6"
  }
 },
 "nbformat": 4,
 "nbformat_minor": 4
}
